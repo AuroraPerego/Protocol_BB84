{
 "cells": [
  {
   "cell_type": "code",
   "execution_count": 1,
   "metadata": {},
   "outputs": [],
   "source": [
    "from qiskit import *\n",
    "import numpy as np\n",
    "import random"
   ]
  },
  {
   "cell_type": "code",
   "execution_count": 2,
   "metadata": {},
   "outputs": [],
   "source": [
    "n_qubits = 10 #number of qubits that Alice sends to Bob\n",
    "eve_is_listening = True "
   ]
  },
  {
   "cell_type": "code",
   "execution_count": 3,
   "metadata": {},
   "outputs": [
    {
     "data": {
      "image/png": "[encoded data removed]",
      "text/plain": [
       "<Figure size 133.526x144.48 with 1 Axes>"
      ]
     },
     "execution_count": 3,
     "metadata": {},
     "output_type": "execute_result"
    }
   ],
   "source": [
    "#visualization of the circuit used for the measurement\n",
    "circuit1 = QuantumCircuit(1,1)\n",
    "#measure in the computational basis\n",
    "circuit1.measure(0,0)\n",
    "%matplotlib inline\n",
    "circuit1.draw('mpl')"
   ]
  },
  {
   "cell_type": "code",
   "execution_count": 4,
   "metadata": {},
   "outputs": [
    {
     "data": {
      "image/png": "[encoded data removed]",
      "text/plain": [
       "<Figure size 193.726x144.48 with 1 Axes>"
      ]
     },
     "execution_count": 4,
     "metadata": {},
     "output_type": "execute_result"
    }
   ],
   "source": [
    "circuit2 = QuantumCircuit(1,1)\n",
    "#measure in the hadamard basis\n",
    "circuit2.h(0)\n",
    "circuit2.measure(0,0)\n",
    "%matplotlib inline\n",
    "circuit2.draw('mpl')"
   ]
  },
  {
   "cell_type": "code",
   "execution_count": 6,
   "metadata": {},
   "outputs": [],
   "source": [
    "simulator=Aer.get_backend('statevector_simulator')\n",
    "\n",
    "#choice of the type of measurement, either the computational basis or the hadamard basis\n",
    "def gate_choice(): \n",
    "    list = np.zeros((2, n_qubits))\n",
    "    for i in range(0, n_qubits):\n",
    "        basis = random.randint(0,1)\n",
    "        list[0][i] = 0 if basis == 0 else 1\n",
    "    return list\n",
    "\n",
    "#measure in the basis chosen\n",
    "def a_measure(list: int, circuit): \n",
    "    if list == 0:\n",
    "        #measure in the computational basis\n",
    "        circuit.measure(0,0)\n",
    "    else:\n",
    "        #measure in the hadamard basis\n",
    "        circuit.h(0)\n",
    "        circuit.measure(0,0)\n",
    "\n",
    "    result=execute(circuit, backend=simulator).result()\n",
    "    statevector=result.get_statevector()\n",
    "    circuit.initialize(statevector, 0)\n",
    "    return int(statevector[0].real)\n",
    "\n",
    "def b_measure(a_list: int, b_list: int, circuit): \n",
    "    if a_list == b_list:\n",
    "        #measure in the computational basis\n",
    "        circuit.measure(0,0)\n",
    "    else:\n",
    "        #measure in the hadamard basis\n",
    "        circuit.h(0)\n",
    "        circuit.measure(0,0)\n",
    "\n",
    "    result=execute(circuit, backend=simulator).result()\n",
    "    statevector=result.get_statevector()\n",
    "    return int(statevector[0].real)\n",
    "\n",
    "def check(a_list: np.ndarray, b_list: np.ndarray):\n",
    "    S = [] #codepad\n",
    "    if len(a_list[0]) != len(b_list[0]):\n",
    "        print(\"The lists must have the same length\")\n",
    "        return 0\n",
    "    for i in range(0, len(a_list[0])):\n",
    "        if a_list[0][i] == b_list[0][i]:\n",
    "            if a_list[1][i] == b_list[1][i]:\n",
    "                S.append(int(b_list[1][i]))\n",
    "            else:\n",
    "                print(\"Be careful! Someone is listening to your conversation.\")\n",
    "                return True\n",
    "    print(\"\\nThe codepad is: \", S)\n",
    "    return True"
   ]
  },
  {
   "cell_type": "code",
   "execution_count": 7,
   "metadata": {},
   "outputs": [
    {
     "name": "stdout",
     "output_type": "stream",
     "text": [
      "Be careful! Someone is listening to your conversation.\n",
      "Alice's initial list is:\n",
      " [[1. 0. 1. 0. 0. 0. 1. 0. 0. 0.]\n",
      " [1. 0. 1. 0. 0. 1. 1. 1. 1. 1.]]\n",
      "\n",
      "Alice's new list is:\n",
      " [[1. 0. 1. 0. 0. 0. 1. 0. 0. 0.]\n",
      " [1. 0. 1. 0. 0. 1. 1. 1. 1. 1.]]\n",
      "\n",
      "Eve's list is:\n",
      " [[0. 1. 0. 1. 1. 0. 1. 0. 1. 0.]\n",
      " [1. 0. 1. 0. 0. 1. 1. 1. 1. 1.]]\n",
      "\n",
      "Bob's list is:\n",
      " [[1. 0. 1. 0. 1. 1. 0. 0. 0. 1.]\n",
      " [1. 0. 0. 0. 0. 0. 1. 1. 1. 0.]]\n"
     ]
    }
   ],
   "source": [
    "Alice_list = gate_choice()\n",
    "Alice_old_list = Alice_list\n",
    "Bob_list = gate_choice()\n",
    "Eve_list = gate_choice()\n",
    "\n",
    "for i in range(0, n_qubits):\n",
    "    circuit = QuantumCircuit(1,1)\n",
    "\n",
    "    Alice_list[1][i] = a_measure(Alice_list[0][i], circuit)\n",
    "    Alice_old_list[1][i] = Alice_list[1][i]\n",
    "    if eve_is_listening:\n",
    "        Alice_list[1][i] = b_measure(Alice_list[0][i], Eve_list[0][i], circuit)\n",
    "        Eve_list[1][i] = Alice_list[1][i]\n",
    "    Bob_list[1][i] = b_measure(Alice_list[0][i], Bob_list[0][i], circuit)\n",
    "\n",
    "check(Alice_list, Bob_list)\n",
    "\n",
    "if eve_is_listening:\n",
    "    print(\"Alice's initial list is:\\n\", Alice_old_list)\n",
    "    print(\"\\nAlice's new list is:\\n\", Alice_list)\n",
    "    print(\"\\nEve's list is:\\n\", Eve_list)\n",
    "else:\n",
    "    print(\"Alice's list is:\\n\", Alice_old_list)\n",
    "print(\"\\nBob's list is:\\n\", Bob_list)"
   ]
  },
  {
   "cell_type": "code",
   "execution_count": 8,
   "metadata": {},
   "outputs": [
    {
     "name": "stdout",
     "output_type": "stream",
     "text": [
      "Alice's initial list is:\n",
      " [[1. 0. 1. 0. 0. 0.]\n",
      " [1. 0. 1. 0. 1. 1.]]\n",
      "\n",
      "Alice's new list is:\n",
      " [[1. 0. 1. 0. 0. 0.]\n",
      " [1. 0. 1. 0. 1. 1.]]\n",
      "\n",
      "Eve's list is:\n",
      " [[0. 1. 0. 1. 0. 1.]\n",
      " [1. 0. 1. 0. 1. 1.]]\n",
      "\n",
      "Bob's list is:\n",
      " [[1. 0. 1. 0. 0. 0.]\n",
      " [1. 0. 0. 0. 1. 1.]]\n"
     ]
    }
   ],
   "source": [
    "#take only the qubits measured in the same state for comparison\n",
    "length = len(Alice_list[0])\n",
    "for i in range(1,length + 1):\n",
    "    j = length - i \n",
    "    if Alice_list[0][j] != Bob_list[0][j]:\n",
    "        Alice_list = np.delete(Alice_list, j, 1)\n",
    "        Alice_old_list = np.delete(Alice_old_list, j, 1)\n",
    "        Eve_list = np.delete(Eve_list, j, 1)\n",
    "        Bob_list = np.delete(Bob_list, j, 1)\n",
    "\n",
    "print(\"Alice's initial list is:\\n\", Alice_old_list)\n",
    "print(\"\\nAlice's new list is:\\n\", Alice_list)\n",
    "print(\"\\nEve's list is:\\n\", Eve_list)\n",
    "print(\"\\nBob's list is:\\n\", Bob_list)"
   ]
  },
  {
   "cell_type": "code",
   "execution_count": null,
   "metadata": {},
   "outputs": [],
   "source": []
  }
 ],
 "metadata": {
  "interpreter": {
   "hash": "7c50efc9c5e7cd6763e801f6499f1b1d25a18b544a090ecb533edb37b15d92c1"
  },
  "kernelspec": {
   "display_name": "Python 3.8.5 64-bit ('base': conda)",
   "language": "python",
   "name": "python3"
  },
  "language_info": {
   "codemirror_mode": {
    "name": "ipython",
    "version": 3
   },
   "file_extension": ".py",
   "mimetype": "text/x-python",
   "name": "python",
   "nbconvert_exporter": "python",
   "pygments_lexer": "ipython3",
   "version": "3.8.10"
  },
  "orig_nbformat": 4
 },
 "nbformat": 4,
 "nbformat_minor": 2
}
